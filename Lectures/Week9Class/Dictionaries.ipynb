{
 "cells": [
  {
   "cell_type": "markdown",
   "id": "3f6a5e5b",
   "metadata": {},
   "source": [
    "# Dictionaries"
   ]
  },
  {
   "cell_type": "code",
   "execution_count": 1,
   "id": "c51395c9",
   "metadata": {},
   "outputs": [],
   "source": [
    "arr = [1, 2, 3, \"ian\", 4, 5, \"beth\", 6, \"camila\", 7, 8, 9, 10, \"adrian\"]"
   ]
  },
  {
   "cell_type": "code",
   "execution_count": 2,
   "id": "b48a0eb6",
   "metadata": {},
   "outputs": [
    {
     "name": "stdout",
     "output_type": "stream",
     "text": [
      "[1, 2, 3, 'ian', 4, 5, 'beth', 6, 'camila', 7, 8, 9, 10, 'adrian']\n"
     ]
    }
   ],
   "source": [
    "print(arr)"
   ]
  },
  {
   "cell_type": "code",
   "execution_count": 3,
   "id": "e1783e4e",
   "metadata": {},
   "outputs": [
    {
     "name": "stdout",
     "output_type": "stream",
     "text": [
      "['An awesome student in IDS 301', 3]\n",
      "dict_keys(['camila', 'chair', 8])\n"
     ]
    }
   ],
   "source": [
    "d = {} # My first dictionary!\n",
    "d[\"camila\"] = [\"An awesome student in IDS 301\", 3]\n",
    "d[\"chair\"] = \"Something we sit on\"\n",
    "d[8] = \"A number\"\n",
    "print(d[\"camila\"])\n",
    "print(d.keys())"
   ]
  },
  {
   "cell_type": "code",
   "execution_count": 4,
   "id": "f5da2ecf",
   "metadata": {},
   "outputs": [
    {
     "data": {
      "text/plain": [
       "False"
      ]
     },
     "execution_count": 4,
     "metadata": {},
     "output_type": "execute_result"
    }
   ],
   "source": [
    "\"beth\" in d"
   ]
  },
  {
   "cell_type": "code",
   "execution_count": 5,
   "id": "cd8c76d1",
   "metadata": {},
   "outputs": [
    {
     "name": "stdout",
     "output_type": "stream",
     "text": [
      "dict_keys(['id', 'text', 'isRetweet', 'isDeleted', 'device', 'favorites', 'retweets', 'date', 'isFlagged'])\n",
      "15.498904109589041\n"
     ]
    },
    {
     "data": {
      "text/plain": [
       "255"
      ]
     },
     "execution_count": 5,
     "metadata": {},
     "output_type": "execute_result"
    }
   ],
   "source": [
    "import json\n",
    "tweets = json.load(open(\"tweets_01-08-2021.json\", \"r\"))\n",
    "first = tweets[0]\n",
    "print(first.keys())\n",
    "print(len(tweets)/(10*365))\n",
    "\n",
    "first[\"retweets\"]"
   ]
  },
  {
   "cell_type": "code",
   "execution_count": null,
   "id": "5480f424",
   "metadata": {},
   "outputs": [],
   "source": []
  },
  {
   "cell_type": "code",
   "execution_count": 15,
   "id": "53e1bd15",
   "metadata": {},
   "outputs": [
    {
     "name": "stdout",
     "output_type": "stream",
     "text": [
      "republicans 545\n"
     ]
    }
   ],
   "source": [
    "def get_counts(tweets):\n",
    "    counts = {} # key = word, value = counts of that word\n",
    "    i = 0\n",
    "    while i < len(tweets):\n",
    "        tweet = tweets[i]\n",
    "        words = tweet[\"text\"].split()\n",
    "        for j in range(len(words)):\n",
    "            w = words[j].lower()\n",
    "            if w not in counts: # First time we're seeing the word\n",
    "                counts[w] = 1\n",
    "            else:\n",
    "                counts[w] += 1\n",
    "        i += 1\n",
    "    return counts\n",
    "\n",
    "counts = get_counts(tweets)\n",
    "\n",
    "words = list(counts.keys())\n",
    "words_counts = list(counts.values())\n",
    "\n",
    "print(words[0], words_counts[0])"
   ]
  },
  {
   "cell_type": "code",
   "execution_count": 8,
   "id": "f3691212",
   "metadata": {},
   "outputs": [
    {
     "name": "stdout",
     "output_type": "stream",
     "text": [
      "95169\n"
     ]
    }
   ],
   "source": [
    "print(tweets[-1][\"favorites\"])"
   ]
  },
  {
   "cell_type": "code",
   "execution_count": 2,
   "id": "ba2bd76d",
   "metadata": {},
   "outputs": [],
   "source": [
    "## Months final, for the plot_coronavirus_timeline function\n",
    "MONTHS = {'Jan':'01', 'Feb':'02', 'Mar':'03', 'Apr':'04', 'May':'05', 'Jun':'06', 'Jul':'07', 'Aug':'08', 'Sep':'09', 'Oct':'10', 'Nov':'11', 'Dec':'12'}\n",
    "\n",
    "def get_tweet_date(tweet):\n",
    "    year = \"\"\n",
    "    month = \"\"\n",
    "    day = \"\"\n",
    "    if \"created_at\" in tweet:\n",
    "        date = tweet['created_at']\n",
    "        # Separate out date into components in a list\n",
    "        # Each element is a different component separated\n",
    "        # by a space\n",
    "        fields = date.split() \n",
    "        \n",
    "        # The year is the last field\n",
    "        year = fields[-1]\n",
    "        \n",
    "        # Use the dictionary defined at the top of the file\n",
    "        # to convert from a three letter month to a two digit month\n",
    "        month = MONTHS[fields[1]] \n",
    "\n",
    "        # This magic code formats a day to be 2 digits, potentially\n",
    "        # with a leading zero\n",
    "        day = \"%02d\"%int(fields[2]) \n",
    "    elif \"date\" in tweet:\n",
    "        date = tweet[\"date\"].split()[0]\n",
    "        year, month, day = date.split(\"-\")\n",
    "    return \"{}/{} {}\".format(month, day, year)"
   ]
  },
  {
   "cell_type": "code",
   "execution_count": 4,
   "id": "6ba862ab",
   "metadata": {},
   "outputs": [
    {
     "data": {
      "text/plain": [
       "'08/02 2011'"
      ]
     },
     "execution_count": 4,
     "metadata": {},
     "output_type": "execute_result"
    }
   ],
   "source": [
    "get_tweet_date(tweets[0])"
   ]
  },
  {
   "cell_type": "code",
   "execution_count": 7,
   "id": "3bf1ad0b",
   "metadata": {},
   "outputs": [
    {
     "name": "stdout",
     "output_type": "stream",
     "text": [
      "{'id': 1311892190680014800, 'text': 'Tonight, @FLOTUS and I tested positive for COVID-19. We will begin our quarantine and recovery process immediately. We will get through this TOGETHER!', 'isRetweet': 'f', 'isDeleted': 'f', 'device': 'Twitter for iPhone', 'favorites': 1869706, 'retweets': 408866, 'date': '2020-10-02 04:54:06', 'isFlagged': 'f'}\n"
     ]
    }
   ],
   "source": [
    "# What's the most popular tweet?\n",
    "def get_most_popular(tweets, key):\n",
    "    max_idx = 0 # Index of the tweet with the most retweets\n",
    "    for i in range(1, len(tweets)):\n",
    "        # If tweets[i] has more retweets than tweets[max_idx]\n",
    "        #      then max_idx = i\n",
    "        if tweets[i][key] > tweets[max_idx][key]:\n",
    "            max_idx = i\n",
    "    return tweets[max_idx]\n",
    "\n",
    "print(get_most_popular(tweets, \"retweets\"))"
   ]
  },
  {
   "cell_type": "code",
   "execution_count": 11,
   "id": "5efe3b5f",
   "metadata": {},
   "outputs": [
    {
     "name": "stdout",
     "output_type": "stream",
     "text": [
      "len(counts) 20\n",
      "len(tweets) 56571\n",
      "sum_all_devices 46694\n"
     ]
    }
   ],
   "source": [
    "# Count how many times Trump uses different devices\n",
    "def count_device_use(tweets):\n",
    "    counts = {} # Key is device string (e.g. \"IPhone\")\n",
    "    # Value is the count of # of tweets that used that device\n",
    "    \n",
    "    for i in range(len(tweets)):\n",
    "        tweet = tweets[i]\n",
    "        if tweet[\"isRetweet\"] == \"f\":\n",
    "            device = tweet[\"device\"]\n",
    "            if not device in counts:\n",
    "                counts[device] = 0 # Create an entry for a new device\n",
    "            counts[device] = counts[device] + 1\n",
    "    return counts\n",
    "\n",
    "counts = count_device_use(tweets)\n",
    "print(\"len(counts)\", len(counts))\n",
    "print(\"len(tweets)\", len(tweets))\n",
    "\n",
    "sum_all_devices = 0 # Accumulator variable\n",
    "for key in counts.keys():\n",
    "    # Sum up the counts across all devices\n",
    "    sum_all_devices += counts[key]\n",
    "print(\"sum_all_devices\", sum_all_devices)"
   ]
  },
  {
   "cell_type": "code",
   "execution_count": 21,
   "id": "1b4eb985",
   "metadata": {},
   "outputs": [
    {
     "name": "stdout",
     "output_type": "stream",
     "text": [
      "['a', 'b', 'c', 'd', 'e', 'f', 'g', 'h', 'i', 'j', 'k', 'l', 'm', 'n', 'o', 'p', 'q', 'r', 's', 't', 'u', 'v', 'w', 'x', 'y', 'z', 0, 1, 2, 3, 4, 5, 6, 7, 8, 9]\n"
     ]
    }
   ],
   "source": [
    "chars = [chr(ord('a')+i) for i in range(26)] + list(range(10))\n",
    "print(chars)"
   ]
  },
  {
   "cell_type": "code",
   "execution_count": 25,
   "id": "bfadbed2",
   "metadata": {},
   "outputs": [
    {
     "data": {
      "text/plain": [
       "'@adrian'"
      ]
     },
     "execution_count": 25,
     "metadata": {},
     "output_type": "execute_result"
    }
   ],
   "source": [
    "def filter_alphanumeric(s):\n",
    "    chars = [chr(ord('a')+i) for i in range(26)] + list(range(10)) + [\"/\", \"@\", \"#\"]\n",
    "    chars = set(chars)\n",
    "    filtered = [c for c in s if c in chars]\n",
    "    return \"\".join(filtered)"
   ]
  },
  {
   "cell_type": "code",
   "execution_count": 26,
   "id": "3eea6ee0",
   "metadata": {},
   "outputs": [
    {
     "name": "stdout",
     "output_type": "stream",
     "text": [
      "['republicans', 'and', 'democrats', 'have', 'both', 'created', 'our', 'economic', 'problems']\n"
     ]
    }
   ],
   "source": [
    "\n",
    "\n",
    "\n",
    "words = tweets[0][\"text\"].split()\n",
    "for i in range(len(words)):\n",
    "    words[i] = words[i].lower()\n",
    "    words[i] = filter_alphanumeric(words[i])\n",
    "print(words)"
   ]
  },
  {
   "cell_type": "code",
   "execution_count": 28,
   "id": "c4ddf2b3",
   "metadata": {},
   "outputs": [],
   "source": [
    "def get_most_common_word(tweets):\n",
    "    counts = {} # key = word, value = counts of that word\n",
    "    i = 0\n",
    "    while i < len(tweets):\n",
    "        tweet = tweets[i]\n",
    "        words = tweet[\"text\"].split()\n",
    "        for j in range(len(words)):\n",
    "            w = words[j].lower()\n",
    "            w = filter_alphanumeric(w)\n",
    "            if w not in counts: # First time we're seeing the word\n",
    "                counts[w] = 1\n",
    "            else:\n",
    "                counts[w] += 1\n",
    "        i += 1\n",
    "    return counts\n",
    "\n",
    "counts = get_most_common_word(tweets)"
   ]
  },
  {
   "cell_type": "code",
   "execution_count": 37,
   "id": "a1fc089d",
   "metadata": {},
   "outputs": [
    {
     "name": "stdout",
     "output_type": "stream",
     "text": [
      "biden 982\n",
      "@realdonaldtrump 10918\n",
      "covfefe 2\n",
      "lies 206\n",
      "fake 1282\n",
      "news 1839\n"
     ]
    }
   ],
   "source": [
    "for example in [\"biden\", \"@realdonaldtrump\", \"covfefe\", \"lies\", \"fake\", \"news\"]:\n",
    "    print(example, counts[example])"
   ]
  },
  {
   "cell_type": "code",
   "execution_count": 40,
   "id": "9e354353",
   "metadata": {},
   "outputs": [
    {
     "name": "stdout",
     "output_type": "stream",
     "text": [
      "the 45868\n"
     ]
    }
   ],
   "source": [
    "max_word = \"biden\"\n",
    "for word in counts:\n",
    "    if counts[word] > counts[max_word]:\n",
    "        max_word = word\n",
    "print(max_word, counts[max_word])"
   ]
  },
  {
   "cell_type": "code",
   "execution_count": 48,
   "id": "4828da7d",
   "metadata": {},
   "outputs": [
    {
     "name": "stdout",
     "output_type": "stream",
     "text": [
      "the\n"
     ]
    }
   ],
   "source": [
    "import numpy as np\n",
    "\n",
    "words = list(counts.keys())\n",
    "words_count = list(counts.values())\n",
    "idx = np.argmax(words_count) # *Index* in words_count of the maximum value\n",
    "print(words[idx])"
   ]
  },
  {
   "cell_type": "code",
   "execution_count": 9,
   "id": "7646cda3",
   "metadata": {},
   "outputs": [],
   "source": [
    "# When do the tweets spike?\n",
    "\n",
    "# Any days where there weren't any tweets?\n",
    "# Standard deviation of number of tweet/day\n",
    "\n",
    "# Any tone changes in tweets?\n",
    "\n",
    "# Days of the week or time of day when tweets spike"
   ]
  },
  {
   "cell_type": "code",
   "execution_count": 24,
   "id": "05c3f2f4",
   "metadata": {},
   "outputs": [
    {
     "name": "stdout",
     "output_type": "stream",
     "text": [
      "[[1 2 3 4 5]]\n",
      "[[0.96565636 0.89031888 0.8031215  0.09507713 0.17573712]\n",
      " [0.49127305 0.4710882  0.6827037  0.64401631 0.20167903]\n",
      " [0.77145634 0.18031273 0.084909   0.58742981 0.78609396]\n",
      " [0.29006986 0.49373889 0.5879348  0.05944346 0.39498147]]\n",
      "[[0.96565636 0.44515944 0.26770717 0.02376928 0.03514742]\n",
      " [0.49127305 0.2355441  0.2275679  0.16100408 0.04033581]\n",
      " [0.77145634 0.09015636 0.028303   0.14685745 0.15721879]\n",
      " [0.29006986 0.24686944 0.19597827 0.01486087 0.07899629]]\n"
     ]
    }
   ],
   "source": [
    "import numpy as np\n",
    "cols = 5\n",
    "x = np.arange(cols)+1\n",
    "x = np.reshape(x, (1, cols))\n",
    "print(x)\n",
    "\n",
    "A = np.random.rand(4, cols)\n",
    "print(A)\n",
    "\n",
    "print(A / x)"
   ]
  },
  {
   "cell_type": "code",
   "execution_count": null,
   "id": "57a6474d",
   "metadata": {},
   "outputs": [],
   "source": []
  }
 ],
 "metadata": {
  "kernelspec": {
   "display_name": "Python 3 (ipykernel)",
   "language": "python",
   "name": "python3"
  },
  "language_info": {
   "codemirror_mode": {
    "name": "ipython",
    "version": 3
   },
   "file_extension": ".py",
   "mimetype": "text/x-python",
   "name": "python",
   "nbconvert_exporter": "python",
   "pygments_lexer": "ipython3",
   "version": "3.9.13"
  }
 },
 "nbformat": 4,
 "nbformat_minor": 5
}
