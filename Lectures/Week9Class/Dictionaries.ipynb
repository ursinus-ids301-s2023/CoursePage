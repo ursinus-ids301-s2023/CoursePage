{
 "cells": [
  {
   "cell_type": "markdown",
   "id": "3f6a5e5b",
   "metadata": {},
   "source": [
    "# Dictionaries"
   ]
  },
  {
   "cell_type": "code",
   "execution_count": 1,
   "id": "c51395c9",
   "metadata": {},
   "outputs": [],
   "source": [
    "arr = [1, 2, 3, \"ian\", 4, 5, \"beth\", 6, \"camila\", 7, 8, 9, 10, \"adrian\"]"
   ]
  },
  {
   "cell_type": "code",
   "execution_count": 2,
   "id": "b48a0eb6",
   "metadata": {},
   "outputs": [
    {
     "name": "stdout",
     "output_type": "stream",
     "text": [
      "[1, 2, 3, 'ian', 4, 5, 'beth', 6, 'camila', 7, 8, 9, 10, 'adrian']\n"
     ]
    }
   ],
   "source": [
    "print(arr)"
   ]
  },
  {
   "cell_type": "code",
   "execution_count": 3,
   "id": "e1783e4e",
   "metadata": {},
   "outputs": [
    {
     "name": "stdout",
     "output_type": "stream",
     "text": [
      "['An awesome student in IDS 301', 3]\n",
      "dict_keys(['camila', 'chair', 8])\n"
     ]
    }
   ],
   "source": [
    "d = {} # My first dictionary!\n",
    "d[\"camila\"] = [\"An awesome student in IDS 301\", 3]\n",
    "d[\"chair\"] = \"Something we sit on\"\n",
    "d[8] = \"A number\"\n",
    "print(d[\"camila\"])\n",
    "print(d.keys())"
   ]
  },
  {
   "cell_type": "code",
   "execution_count": 4,
   "id": "f5da2ecf",
   "metadata": {},
   "outputs": [
    {
     "data": {
      "text/plain": [
       "False"
      ]
     },
     "execution_count": 4,
     "metadata": {},
     "output_type": "execute_result"
    }
   ],
   "source": [
    "\"beth\" in d"
   ]
  },
  {
   "cell_type": "code",
   "execution_count": 5,
   "id": "cd8c76d1",
   "metadata": {},
   "outputs": [
    {
     "name": "stdout",
     "output_type": "stream",
     "text": [
      "dict_keys(['id', 'text', 'isRetweet', 'isDeleted', 'device', 'favorites', 'retweets', 'date', 'isFlagged'])\n",
      "15.498904109589041\n"
     ]
    },
    {
     "data": {
      "text/plain": [
       "255"
      ]
     },
     "execution_count": 5,
     "metadata": {},
     "output_type": "execute_result"
    }
   ],
   "source": [
    "import json\n",
    "tweets = json.load(open(\"tweets_01-08-2021.json\", \"r\"))\n",
    "first = tweets[0]\n",
    "print(first.keys())\n",
    "print(len(tweets)/(10*365))\n",
    "\n",
    "first[\"retweets\"]"
   ]
  },
  {
   "cell_type": "code",
   "execution_count": 6,
   "id": "ba2bd76d",
   "metadata": {},
   "outputs": [],
   "source": [
    "## Months final, for the plot_coronavirus_timeline function\n",
    "MONTHS = {'Jan':'01', 'Feb':'02', 'Mar':'03', 'Apr':'04', 'May':'05', 'Jun':'06', 'Jul':'07', 'Aug':'08', 'Sep':'09', 'Oct':'10', 'Nov':'11', 'Dec':'12'}\n",
    "\n",
    "def get_tweet_date(tweet):\n",
    "    year = \"\"\n",
    "    month = \"\"\n",
    "    day = \"\"\n",
    "    if \"created_at\" in tweet:\n",
    "        date = tweet['created_at']\n",
    "        # Separate out date into components in a list\n",
    "        # Each element is a different component separated\n",
    "        # by a space\n",
    "        fields = date.split() \n",
    "        \n",
    "        # The year is the last field\n",
    "        year = fields[-1]\n",
    "        \n",
    "        # Use the dictionary defined at the top of the file\n",
    "        # to convert from a three letter month to a two digit month\n",
    "        month = MONTHS[fields[1]] \n",
    "\n",
    "        # This magic code formats a day to be 2 digits, potentially\n",
    "        # with a leading zero\n",
    "        day = \"%02d\"%int(fields[2]) \n",
    "    elif \"date\" in tweet:\n",
    "        date = tweet[\"date\"].split()[0]\n",
    "        year, month, day = date.split(\"-\")\n",
    "    return \"{}/{} {}\".format(month, day, year)"
   ]
  },
  {
   "cell_type": "code",
   "execution_count": 7,
   "id": "3bf1ad0b",
   "metadata": {},
   "outputs": [
    {
     "name": "stdout",
     "output_type": "stream",
     "text": [
      "{'id': 1311892190680014800, 'text': 'Tonight, @FLOTUS and I tested positive for COVID-19. We will begin our quarantine and recovery process immediately. We will get through this TOGETHER!', 'isRetweet': 'f', 'isDeleted': 'f', 'device': 'Twitter for iPhone', 'favorites': 1869706, 'retweets': 408866, 'date': '2020-10-02 04:54:06', 'isFlagged': 'f'}\n"
     ]
    }
   ],
   "source": [
    "# What's the most popular tweet?\n",
    "def get_most_popular(tweets, key):\n",
    "    max_idx = 0 # Index of the tweet with the most retweets\n",
    "    for i in range(1, len(tweets)):\n",
    "        # If tweets[i] has more retweets than tweets[max_idx]\n",
    "        #      then max_idx = i\n",
    "        if tweets[i][key] > tweets[max_idx][key]:\n",
    "            max_idx = i\n",
    "    return tweets[max_idx]\n",
    "\n",
    "print(get_most_popular(tweets, \"retweets\"))"
   ]
  },
  {
   "cell_type": "code",
   "execution_count": 8,
   "id": "5efe3b5f",
   "metadata": {},
   "outputs": [
    {
     "name": "stdout",
     "output_type": "stream",
     "text": [
      "{'TweetDeck': 481, 'Twitter for iPhone': 18168, 'Twitter Media Studio': 375, 'Twitter for Android': 14544, 'Twitter Web Client': 12113, 'Instagram': 133, 'Twitter for iPad': 55, 'Twitter Ads': 97, 'Facebook': 105, 'Periscope': 7, 'Twitter Web App': 62, 'TwitLonger Beta': 405, 'Twitter QandA': 10, 'Twitlonger': 23, 'Vine - Make a Scene': 10, 'Twitter for BlackBerry': 97, 'Twitter for Websites': 1, 'Twitter Mirror for iPad': 1, 'Neatly For BlackBerry 10': 5, 'Media Studio': 2}\n"
     ]
    }
   ],
   "source": [
    "# Count how many times Trump uses different devices\n",
    "def count_device_use(tweets):\n",
    "    counts = {} # Key is device string (e.g. \"IPhone\")\n",
    "    # Value is the count of # of tweets that used that device\n",
    "    \n",
    "    for i in range(len(tweets)):\n",
    "        tweet = tweets[i]\n",
    "        if tweet[\"isRetweet\"] == \"f\":\n",
    "            device = tweet[\"device\"]\n",
    "            if not device in counts:\n",
    "                counts[device] = 0 # Create an entry for a new device\n",
    "            counts[device] = counts[device] + 1\n",
    "    return counts\n",
    "\n",
    "print(count_device_use(tweets))"
   ]
  },
  {
   "cell_type": "code",
   "execution_count": 9,
   "id": "7646cda3",
   "metadata": {},
   "outputs": [],
   "source": [
    "\n",
    "# What's the most common word?\n",
    "\n",
    "# When do the tweets spike?\n",
    "\n",
    "# Any days where there weren't any tweets?\n",
    "# Standard deviation of number of tweet/day\n",
    "\n",
    "# Any tone changes in tweets?\n",
    "\n",
    "# Days of the week or time of day when tweets spike"
   ]
  }
 ],
 "metadata": {
  "kernelspec": {
   "display_name": "Python 3 (ipykernel)",
   "language": "python",
   "name": "python3"
  },
  "language_info": {
   "codemirror_mode": {
    "name": "ipython",
    "version": 3
   },
   "file_extension": ".py",
   "mimetype": "text/x-python",
   "name": "python",
   "nbconvert_exporter": "python",
   "pygments_lexer": "ipython3",
   "version": "3.9.13"
  }
 },
 "nbformat": 4,
 "nbformat_minor": 5
}
